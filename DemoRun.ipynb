{
 "cells": [
  {
   "cell_type": "code",
   "id": "initial_id",
   "metadata": {
    "collapsed": true,
    "ExecuteTime": {
     "end_time": "2024-07-11T12:58:07.560371Z",
     "start_time": "2024-07-11T12:58:07.553580Z"
    }
   },
   "source": "secret_key = '...' \n",
   "outputs": [],
   "execution_count": 1
  },
  {
   "metadata": {
    "ExecuteTime": {
     "end_time": "2024-07-11T12:58:15.603655Z",
     "start_time": "2024-07-11T12:58:07.567602Z"
    }
   },
   "cell_type": "code",
   "source": [
    "import os\n",
    "import random\n",
    "os.environ['OPENAI_API_KEY'] = secret_key\n",
    "from plurals.agent import Agent\n",
    "from plurals.deliberation import Ensemble,Debate, Chain, Moderator\n",
    "from pprint import pprint\n",
    "model = 'gpt-4o'"
   ],
   "id": "e20464da615e3ba9",
   "outputs": [],
   "execution_count": 2
  },
  {
   "metadata": {},
   "cell_type": "markdown",
   "source": "",
   "id": "6a4d1e0456a32ce6"
  },
  {
   "metadata": {},
   "cell_type": "markdown",
   "source": "AGENTS FROM ANES DB BY IDEOLOGY",
   "id": "60cd08a639ecd164"
  },
  {
   "metadata": {
    "ExecuteTime": {
     "end_time": "2024-07-11T12:58:34.247179Z",
     "start_time": "2024-07-11T12:58:34.190811Z"
    }
   },
   "cell_type": "code",
   "source": [
    "ideologies = [\"liberal\", \"moderate\", \"conservative\", \"very liberal\", \"very conservative\"]\n",
    "agents = [Agent(ideology=ideology, persona_template=\"default\", model=model) for ideology in\n",
    "          ideologies]\n",
    "for agent in agents:\n",
    "    print(f\"Ideology: {agent.ideology}, Persona : {agent.persona}\\n\")\n",
    "\n"
   ],
   "id": "187e47be03532104",
   "outputs": [
    {
     "name": "stdout",
     "output_type": "stream",
     "text": [
      "Ideology: liberal, Persona : Your age is 49. Your education is high school graduate. Your gender is man. Your race is white. Politically, you identify as a(n) democrat. Your ideology is liberal. Regarding children, you do have children under 18 living in your household. Your employment status is full-time. Your geographic region is the south. You live in a big city. You live in the state of virginia.\n",
      "\n",
      "Ideology: moderate, Persona : Your age is 43. Your education is some college. Your gender is woman. Your race is white. Politically, you identify as a(n) republican. Your ideology is moderate. Regarding children, you do have children under 18 living in your household. Your employment status is homemaker. Your geographic region is the midwest. You live in a suburban area. You live in the state of ohio.\n",
      "\n",
      "Ideology: conservative, Persona : Your age is 45. Your education is 4-year degree. Your gender is woman. Your race is white. Politically, you identify as a(n) republican. Your ideology is conservative. Regarding children, you do have children under 18 living in your household. Your employment status is full-time. Your geographic region is the midwest. You live in a smaller city. You live in the state of indiana.\n",
      "\n",
      "Ideology: very liberal, Persona : Your age is 27. Your education is 4-year degree. Your gender is woman. Your race is neither white nor black nor hispanic. Politically, you identify as a(n) democrat. Your ideology is very liberal. Regarding children, you do not have children under 18 living in your household. Your employment status is unemployed. Your geographic region is the south. You live in a suburban area. You live in the state of georgia.\n",
      "\n",
      "Ideology: very conservative, Persona : Your age is 86. Your education is high school graduate. Your gender is neither man, nor woman, nor non-binary.. Your race is hispanic. Politically, you identify as a(n) republican. Your ideology is very conservative. Regarding children, you do not have children under 18 living in your household. Your employment status is retired. Your geographic region is the west. You live in a smaller city. You live in the state of california.\n",
      "\n"
     ]
    }
   ],
   "execution_count": 3
  },
  {
   "metadata": {},
   "cell_type": "markdown",
   "source": "ENSEMBLE EXAMPLE",
   "id": "478dff0331b52502"
  },
  {
   "metadata": {
    "ExecuteTime": {
     "end_time": "2024-07-11T12:58:40.007036Z",
     "start_time": "2024-07-11T12:58:39.991218Z"
    }
   },
   "cell_type": "code",
   "source": [
    "import random\n",
    "\n",
    "states = [\"Alabama\", \"Alaska\", \"Arizona\", \"Arkansas\", \"California\", \"Colorado\",\n",
    "          \"Connecticut\", \"Delaware\", \"Florida\", \"Georgia\", \"Hawaii\", \"Idaho\",\n",
    "          \"Illinois\", \"Indiana\", \"Iowa\", \"Kansas\", \"Kentucky\", \"Louisiana\",\n",
    "          \"Maine\", \"Maryland\", \"Massachusetts\", \"Michigan\", \"Minnesota\",\n",
    "          \"Mississippi\", \"Missouri\", \"Montana\", \"Nebraska\", \"Nevada\",\n",
    "          \"New Hampshire\", \"New Jersey\", \"New Mexico\", \"New York\",\n",
    "          \"North Carolina\", \"North Dakota\", \"Ohio\", \"Oklahoma\", \"Oregon\",\n",
    "          \"Pennsylvania\", \"Rhode Island\", \"South Carolina\", \"South Dakota\",\n",
    "          \"Tennessee\", \"Texas\", \"Utah\", \"Vermont\", \"Virginia\", \"Washington\",\n",
    "          \"West Virginia\", \"Wisconsin\", \"Wyoming\"]\n",
    "\n",
    "ideologies = [\"liberal\", \"moderate\", \"conservative\", \"very liberal\", \"very conservative\"]\n",
    "\n",
    "gender = [\"men\", \"women\"]\n",
    "\n",
    "people = ['A {} year old {} from {}, {}'.format(random.randint(18, 100),\n",
    "                                                random.choice(gender),\n",
    "                                                state,\n",
    "                                                random.choice(ideologies)\n",
    "                                                ) for state in states]\n",
    "\n",
    "\n",
    "agents = [Agent(persona=person, persona_template=\"default\", model=model) for person in\n",
    "          people]\n",
    "# for agent in agents:\n",
    "#     print(f\"Persona : {agent.persona}\\n\")\n"
   ],
   "id": "8ab15ed08cc6fc06",
   "outputs": [],
   "execution_count": 4
  },
  {
   "metadata": {
    "ExecuteTime": {
     "end_time": "2024-07-11T12:58:50.006193Z",
     "start_time": "2024-07-11T12:58:50.001050Z"
    }
   },
   "cell_type": "code",
   "source": [
    "# Opinion sample\n",
    "task = \"What should the Official Government Emoji be? Answer in 10 word.\"\n",
    "\n",
    "task = \"Should government provide universal basic vacation allowance to promote relaxation and mental well-being? Yes or no? Answer in  less than 10 words.\""
   ],
   "id": "4dd53a56e3719223",
   "outputs": [],
   "execution_count": 5
  },
  {
   "metadata": {
    "ExecuteTime": {
     "end_time": "2024-07-11T12:59:03.785166Z",
     "start_time": "2024-07-11T12:58:54.561829Z"
    }
   },
   "cell_type": "code",
   "source": [
    "mod = Moderator(persona = \"voting\", combination_instructions = \"voting\")\n",
    "structure = Ensemble(agents, combination_instructions=\"default\", task=task, moderator = mod)\n",
    "structure.process()\n",
    "print(\"\\n\\n\")\n",
    "print(\"OPINIONS\")\n",
    "#print(structure.responses)\n",
    "\n",
    "for agent in agents:\n",
    "    print(f\"Persona : {agent.persona}, Response : {agent.responses}\\n\")\n",
    "    #print(\"\\n\")\n",
    "    \n",
    "\n",
    "print(\"MODERATOR FINAL RESPONSE\")\n",
    "print(structure.final_response)\n"
   ],
   "id": "db57a0766817d8c9",
   "outputs": [
    {
     "name": "stdout",
     "output_type": "stream",
     "text": [
      "\n",
      "\n",
      "\n",
      "OPINIONS\n",
      "Persona : A 59 year old women from Alabama, very conservative, Response : ['No, personal responsibility for vacations, not government’s job.']\n",
      "\n",
      "Persona : A 76 year old women from Alaska, conservative, Response : ['No, people should earn their own vacations.']\n",
      "\n",
      "Persona : A 39 year old women from Arizona, conservative, Response : ['No, individuals should manage their own relaxation and well-being.']\n",
      "\n",
      "Persona : A 46 year old women from Arkansas, very conservative, Response : [\"No, it's not the government's job.\"]\n",
      "\n",
      "Persona : A 20 year old women from California, conservative, Response : ['No, personal responsibility for relaxation is better.']\n",
      "\n",
      "Persona : A 60 year old men from Colorado, liberal, Response : ['Yes, everyone deserves a break to stay healthy.']\n",
      "\n",
      "Persona : A 90 year old women from Connecticut, liberal, Response : ['Yes, everyone needs a break for good health.']\n",
      "\n",
      "Persona : A 83 year old men from Delaware, very conservative, Response : [\"No, government shouldn't provide universal basic vacation allowance.\"]\n",
      "\n",
      "Persona : A 31 year old women from Florida, moderate, Response : ['Yes, it can boost relaxation and mental health.']\n",
      "\n",
      "Persona : A 62 year old women from Georgia, moderate, Response : ['No, budgets should focus on essential services first.']\n",
      "\n",
      "Persona : A 91 year old women from Hawaii, liberal, Response : ['Yes, everyone deserves some time to relax and unwind.']\n",
      "\n",
      "Persona : A 95 year old men from Idaho, conservative, Response : ['No, folks should earn their vacations through hard work.']\n",
      "\n",
      "Persona : A 99 year old men from Illinois, conservative, Response : [\"No, personal responsibility for relaxation, not government's job.\"]\n",
      "\n",
      "Persona : A 74 year old women from Indiana, moderate, Response : [\"No, it's not the government's responsibility.\"]\n",
      "\n",
      "Persona : A 89 year old women from Iowa, very conservative, Response : ['No, people should earn their vacations on their own.']\n",
      "\n",
      "Persona : A 39 year old women from Kansas, liberal, Response : ['Yes, it would promote well-being and work-life balance.']\n",
      "\n",
      "Persona : A 94 year old women from Kentucky, conservative, Response : ['No, folks should earn their own way.']\n",
      "\n",
      "Persona : A 55 year old men from Louisiana, moderate, Response : [\"No, it's not practical or necessary.\"]\n",
      "\n",
      "Persona : A 86 year old women from Maine, moderate, Response : ['No, personal responsibility should cover vacations, not government.']\n",
      "\n",
      "Persona : A 40 year old women from Maryland, liberal, Response : ['Yes, everyone deserves a break and mental health boost.']\n",
      "\n",
      "Persona : A 31 year old men from Massachusetts, conservative, Response : ['No, people should earn their vacation.']\n",
      "\n",
      "Persona : A 91 year old men from Michigan, moderate, Response : ['No, personal responsibility is important for well-being.']\n",
      "\n",
      "Persona : A 37 year old men from Minnesota, very liberal, Response : ['Yes, everyone deserves time off to recharge and relax.']\n",
      "\n",
      "Persona : A 79 year old men from Mississippi, liberal, Response : [\"Yes, relaxation is important for everyone's health.\"]\n",
      "\n",
      "Persona : A 62 year old women from Missouri, very conservative, Response : ['No, people should earn their own vacations.']\n",
      "\n",
      "Persona : A 24 year old women from Montana, liberal, Response : ['Yes, it can boost well-being and productivity.']\n",
      "\n",
      "Persona : A 67 year old women from Nebraska, very conservative, Response : ['No, people should earn their vacation time.']\n",
      "\n",
      "Persona : A 70 year old women from Nevada, very liberal, Response : ['Yes, it could benefit mental well-being.']\n",
      "\n",
      "Persona : A 42 year old men from New Hampshire, very conservative, Response : [\"No, government shouldn't mandate vacations, it's personal responsibility.\"]\n",
      "\n",
      "Persona : A 25 year old men from New Jersey, liberal, Response : ['Yes, everyone deserves a break for better well-being.']\n",
      "\n",
      "Persona : A 45 year old men from New Mexico, very conservative, Response : ['No, people should earn their vacations, not get handouts.']\n",
      "\n",
      "Persona : A 27 year old women from New York, very conservative, Response : [\"No, it's not the government's responsibility.\"]\n",
      "\n",
      "Persona : A 63 year old men from North Carolina, conservative, Response : ['No, focus on personal responsibility for relaxation.']\n",
      "\n",
      "Persona : A 95 year old women from North Dakota, liberal, Response : ['Absolutely, everyone deserves a break and some relaxation.']\n",
      "\n",
      "Persona : A 58 year old men from Ohio, very liberal, Response : ['Yes, everyone deserves time to relax and recharge.']\n",
      "\n",
      "Persona : A 23 year old women from Oklahoma, very liberal, Response : ['Yes, everyone deserves time to relax and recharge.']\n",
      "\n",
      "Persona : A 33 year old women from Oregon, moderate, Response : ['Yes, it promotes overall mental and physical well-being.']\n",
      "\n",
      "Persona : A 48 year old women from Pennsylvania, moderate, Response : [\"No, it's not the government's role.\"]\n",
      "\n",
      "Persona : A 22 year old men from Rhode Island, conservative, Response : [\"No, it's not the government's job.\"]\n",
      "\n",
      "Persona : A 47 year old men from South Carolina, moderate, Response : ['No, individual choice should guide vacation plans.']\n",
      "\n",
      "Persona : A 38 year old men from South Dakota, moderate, Response : [\"No, it's not practical or financially sustainable.\"]\n",
      "\n",
      "Persona : A 69 year old women from Tennessee, very liberal, Response : ['Yes, everyone deserves a break for their well-being.']\n",
      "\n",
      "Persona : A 19 year old women from Texas, very conservative, Response : [\"No, that's not the government's job to handle.\"]\n",
      "\n",
      "Persona : A 75 year old men from Utah, moderate, Response : ['No, personal responsibility for vacation planning is better.']\n",
      "\n",
      "Persona : A 34 year old women from Vermont, liberal, Response : ['Yes, everyone deserves time to relax and recharge.']\n",
      "\n",
      "Persona : A 48 year old men from Virginia, very liberal, Response : ['Yes, it would greatly improve overall well-being.']\n",
      "\n",
      "Persona : A 100 year old men from Washington, very liberal, Response : ['Yes, everyone deserves time to rest and recharge.']\n",
      "\n",
      "Persona : A 22 year old men from West Virginia, moderate, Response : [\"No, it's too expensive and unrealistic.\"]\n",
      "\n",
      "Persona : A 59 year old women from Wisconsin, very liberal, Response : ['Yes, everyone deserves time to recharge and relax.']\n",
      "\n",
      "Persona : A 40 year old men from Wyoming, liberal, Response : ['Yes, it boosts well-being and productivity.']\n",
      "\n",
      "MODERATOR FINAL RESPONSE\n",
      "No, it's personal responsibility, not government's job.\n"
     ]
    }
   ],
   "execution_count": 6
  },
  {
   "metadata": {
    "ExecuteTime": {
     "end_time": "2024-07-11T12:59:09.101651Z",
     "start_time": "2024-07-11T12:59:03.787319Z"
    }
   },
   "cell_type": "code",
   "source": [
    "# EXPERTS PANEL EXAMPLE\n",
    "\n",
    "task = \"Will colonization of Mars be ever achieved if so when? Answer from the point of your scientific expertise in  less than 50 word.\"\n",
    "\n",
    "\n",
    "professor_fields_teleport = [\"Astrobiology\",\n",
    "    \"Astrophysics\",\n",
    "    \"Aerospace Engineering\",\n",
    "    \"Space Architecture\",\n",
    "    \"Planetary Science\",\n",
    "    \"Geophysics\",\n",
    "    \"Atmospheric Science\",\n",
    "    \"Politics\",\n",
    "    \"Economics\",\n",
    "    \"Space Medicine\"]\n",
    "\n",
    "professor_genders = [\"Male\", \"Female\"]\n",
    "\n",
    "professor_personas = []\n",
    "\n",
    "for field in professor_fields_teleport:\n",
    "    gender = random.choice(professor_genders)\n",
    "    age = random.randint(30, 70)  # Assuming professors are between 30 and 70 years old\n",
    "    persona = f'A {age}-year-old {gender} professor with expertise in {field}'\n",
    "    professor_personas.append(persona)\n",
    "\n",
    "    \n",
    "agents = [Agent(persona=person, persona_template=\"default\", model=model) for person in\n",
    "          professor_personas]\n",
    "\n",
    "mod = Moderator(persona = \"default\", combination_instructions = \"default\")\n",
    "structure = Ensemble(agents, combination_instructions=\"default\", task=task, moderator = mod)\n",
    "structure.process()\n",
    "print(\"\\n\\n\")\n",
    "print(\"OPINIONS\")\n",
    "#print(structure.responses)\n",
    "\n",
    "for agent in agents:\n",
    "    print(f\"Persona : {agent.persona}, Response : {agent.responses}\\n\")\n",
    "    #print(\"\\n\")\n",
    "    \n",
    "\n",
    "print(\"MODERATOR FINAL RESPONSE\")\n",
    "print(structure.final_response)\n"
   ],
   "id": "295aa717dc6ded8d",
   "outputs": [
    {
     "name": "stdout",
     "output_type": "stream",
     "text": [
      "\n",
      "\n",
      "\n",
      "OPINIONS\n",
      "Persona : A 47-year-old Male professor with expertise in Astrobiology, Response : ['Colonizing Mars is technically feasible but entails significant challenges in technology, funding, and sustainability. Realistically, with rapid advancements, we might see initial human habitats by 2040-2050, but full colonization will take much longer.']\n",
      "\n",
      "Persona : A 61-year-old Male professor with expertise in Astrophysics, Response : ['Colonization of Mars is plausible given technological advances, yet it might take several decades. Expect significant progress by the 2050s, driven by ongoing efforts from agencies like NASA and companies such as SpaceX.']\n",
      "\n",
      "Persona : A 53-year-old Male professor with expertise in Aerospace Engineering, Response : ['Colonization of Mars is possible with advancements in technology, sustainable life support, and interplanetary travel. Realistically, it could happen by mid-to-late 21st century, depending on political will, funding, and technological breakthroughs.']\n",
      "\n",
      "Persona : A 54-year-old Female professor with expertise in Space Architecture, Response : ['Yes, Mars colonization is possible but challenging. With current advancements, it might be achievable within 30-50 years, focusing on life support, sustainable habitats, and long-term resource management.']\n",
      "\n",
      "Persona : A 48-year-old Female professor with expertise in Planetary Science, Response : ['Mars colonization is technically possible, but significant challenges remain. Optimistically, it could happen within the next 50-100 years, depending on advances in technology, funding, and international cooperation.']\n",
      "\n",
      "Persona : A 42-year-old Male professor with expertise in Geophysics, Response : ['Colonization of Mars is technically feasible but highly challenging. It depends on advancements in life support, radiation protection, and sustainable habitats. Realistically, it may take several decades, possibly mid to late 21st century, before we see permanent human settlements.']\n",
      "\n",
      "Persona : A 36-year-old Female professor with expertise in Atmospheric Science, Response : ['Colonization of Mars is possible but faces significant challenges including radiation exposure, life support, and sustainable habitats. With current technology advancements, it might be feasible in the next 50-100 years, but continuous research and development are crucial.']\n",
      "\n",
      "Persona : A 42-year-old Female professor with expertise in Politics, Response : [\"Colonization of Mars is possible, but it's a long-term goal likely requiring decades or even centuries. Technological, financial, and ethical challenges must be addressed before humans can establish sustainable colonies there.\"]\n",
      "\n",
      "Persona : A 39-year-old Female professor with expertise in Economics, Response : ['Achieving Mars colonization hinges on technological advances and substantial investment. Given current challenges, it appears unlikely before 2050. Economic feasibility and international cooperation are crucial.']\n",
      "\n",
      "Persona : A 33-year-old Female professor with expertise in Space Medicine, Response : ['Mars colonization is plausible but faces significant hurdles in radiation, microgravity, and life support. Technologically, it could be feasible within the next 50-100 years, but actual timelines depend on international cooperation and sustained funding.']\n",
      "\n",
      "MODERATOR FINAL RESPONSE\n",
      "Mars colonization is technically feasible but faces significant challenges in life support, radiation protection, and sustainability. With current technology advancements and international cooperation, it might be achievable within the next 50-100 years. Continued research, funding, and political will are crucial.\n"
     ]
    }
   ],
   "execution_count": 7
  },
  {
   "metadata": {},
   "cell_type": "code",
   "outputs": [],
   "execution_count": null,
   "source": "",
   "id": "7211bae6a64d6182"
  },
  {
   "metadata": {},
   "cell_type": "markdown",
   "source": " CHAIN \n",
   "id": "f947edc7690afcd9"
  },
  {
   "metadata": {
    "ExecuteTime": {
     "end_time": "2024-07-11T12:59:09.111555Z",
     "start_time": "2024-07-11T12:59:09.106070Z"
    }
   },
   "cell_type": "code",
   "source": [
    "#- CONVINCING AD 1\n",
    "task = \"Come up with an ad campaign to convince conservatives to follow a plant-based diet. It should pivot on one core insight. Answer in 50 words.\""
   ],
   "id": "92e8b5c8c48f9639",
   "outputs": [],
   "execution_count": 8
  },
  {
   "metadata": {
    "ExecuteTime": {
     "end_time": "2024-07-11T12:59:09.130848Z",
     "start_time": "2024-07-11T12:59:09.114577Z"
    }
   },
   "cell_type": "code",
   "source": [
    "#- CONVINCING AD 2\n",
    "task = \"Come up with an ad campaign to convince liberals to buy large gasoline fuel trucks. It should pivot on one core insight. Answer in 50 words.\""
   ],
   "id": "2d8e6302f86cde65",
   "outputs": [],
   "execution_count": 9
  },
  {
   "metadata": {
    "ExecuteTime": {
     "end_time": "2024-07-11T13:01:39.954173Z",
     "start_time": "2024-07-11T12:59:19.068277Z"
    }
   },
   "cell_type": "code",
   "source": [
    "# WITHOUT MODERATOR\n",
    "structure = Chain(agents, combination_instructions=\"chain\", task=task)\n",
    "structure.process()\n",
    "print(\"\\n\\n\")\n",
    "print(\"WITHOUT MODERATOR FINAL RESPONSE\")\n",
    "print(structure.final_response)\n",
    "\n",
    "print(\"\\n\\n\")\n",
    "\n",
    "moderator_types = [\"default\", \n",
    "                   \"rational\", \n",
    "                   \"empathetic\", \n",
    "                   \"voting\"]\n",
    "\n",
    "# WITH BUILT-In MODERATORS\n",
    "moderators = [Moderator(persona=moderator_type, combination_instructions = moderator_type) for moderator_type in\n",
    "          moderator_types]\n",
    "\n",
    "i = 0\n",
    "for moderator in moderators:\n",
    "    structure = Chain(agents, combination_instructions=\"chain\", task=task, moderator=moderator)\n",
    "    print(f\"MODERATOR TYPE: {moderator_types[i]}\\n\")\n",
    "    \n",
    "    structure.process()\n",
    "    #print(\"FINAL RESPONSE:\")\n",
    "    print(structure.final_response)\n",
    "    i +=1\n",
    "    print(\"\\n\\n\")\n",
    "\n",
    "\n",
    "# WITH CUSTOM MODERATOR\n",
    "mod = Moderator(persona = \"You are an expert strategist for an advertisement agency. Combine the best ideas from others to return a brief pivoting on one sharp insight. Provide the brief. Answer in 50 words.\", combination_instructions = \"default\")\n",
    "structure = Chain(agents, combination_instructions=\"chain\", task=task, moderator=mod)\n",
    "structure.process()\n",
    "print(\"\\n\\n\")\n",
    "print(\"WITH CUSTOM MODERATOR \")\n",
    "print(structure.final_response)\n",
    "\n",
    "\n"
   ],
   "id": "d34482f2b41175d4",
   "outputs": [
    {
     "name": "stderr",
     "output_type": "stream",
     "text": [
      "C:\\Emily\\Projects\\Plurchain\\plurals\\deliberation.py:152: UserWarning: Writing over agent's combination instructions with Chain's combination instructions\n",
      "  warnings.warn(\n",
      "C:\\Emily\\Projects\\Plurchain\\plurals\\deliberation.py:176: UserWarning: Writing over agent's task with Chain's task\n",
      "  warnings.warn(\n"
     ]
    },
    {
     "name": "stdout",
     "output_type": "stream",
     "text": [
      "\n",
      "\n",
      "\n",
      "WITHOUT MODERATOR FINAL RESPONSE\n",
      "\"Empower your sustainability efforts! Our robust gasoline trucks ensure reliable transport for green initiatives and disaster relief. Promote eco-friendly solutions with vehicles that deliver essential supplies efficiently and on time, reinforcing your commitment to a better future.\"\n",
      "\n",
      "\n",
      "\n",
      "MODERATOR TYPE: default\n",
      "\n",
      "\"Fuel Progress: Drive large gasoline trucks to support and transport renewable energy projects, rebuild eco-friendly communities, and connect green initiatives. Turn conventional power into a force for sustainable change. Together, let’s transform our journey into a sustainable impact for a greener tomorrow.\"\n",
      "\n",
      "\n",
      "\n",
      "MODERATOR TYPE: rational\n",
      "\n",
      "Champion Community Resilience: Invest in large gasoline trucks, essential for disaster relief and emergency response. Enhance immediate aid delivery with eco-friendly retrofits, aligning with sustainability goals. These powerful machines ensure critical resources reach affected areas swiftly, helping protect communities and promote environmental progress. Balancing practicality with eco-conscious upgrades, this investment supports both immediate needs and long-term resilience.\n",
      "\n",
      "\n",
      "\n",
      "MODERATOR TYPE: empathetic\n",
      "\n",
      "Imagine a future where every journey you take is a step towards sustainability. Our robust gasoline trucks deliver reliability today and promise seamless conversion to eco-friendly fuels tomorrow. With adaptable technology, your investment ensures a smooth transition to renewable energy. Be a trailblazer in the green revolution, balancing practical needs with a bold vision for a sustainable future. Drive the change — because our planet is worth it.\n",
      "\n",
      "\n",
      "\n",
      "MODERATOR TYPE: voting\n",
      "\n",
      "\"Empower Renewable Projects: Drive Progress! Our fuel-efficient gasoline trucks ensure continuous support for green initiatives and eco-friendly infrastructure. Be the backbone of sustainable change; invest in reliable transport to fuel your vision for a greener future.\"\n",
      "\n",
      "\n",
      "\n",
      "\n",
      "\n",
      "\n",
      "WITH CUSTOM MODERATOR \n",
      "\"Drive Green Innovation! Our advanced gasoline trucks efficiently transport biofuels and recycled oils. Embrace technology to reduce carbon footprints and support sustainable energy shifts. Invest in eco-friendly logistics for a cleaner, greener future today!\"\n"
     ]
    }
   ],
   "execution_count": 10
  },
  {
   "metadata": {},
   "cell_type": "markdown",
   "source": "DEBATE",
   "id": "68561aad85333d2"
  },
  {
   "metadata": {
    "ExecuteTime": {
     "end_time": "2024-07-11T13:05:44.194734Z",
     "start_time": "2024-07-11T13:05:44.189778Z"
    }
   },
   "cell_type": "code",
   "source": "task=\"Should the government provide free daycare? Answer in 50 words.\"",
   "id": "a5798579b202b53a",
   "outputs": [],
   "execution_count": 15
  },
  {
   "metadata": {
    "ExecuteTime": {
     "end_time": "2024-07-11T13:01:39.992371Z",
     "start_time": "2024-07-11T13:01:39.980317Z"
    }
   },
   "cell_type": "code",
   "source": "task=\"Should guns be banned? Answer in 50 words.\"",
   "id": "750031de2e806f12",
   "outputs": [],
   "execution_count": 12
  },
  {
   "metadata": {
    "ExecuteTime": {
     "end_time": "2024-07-11T13:01:40.016812Z",
     "start_time": "2024-07-11T13:01:39.998975Z"
    }
   },
   "cell_type": "code",
   "source": "task = \"What is a better school - Michigan State or Michigan University? Answer in 50 words.\"",
   "id": "76c374c1f754ea63",
   "outputs": [],
   "execution_count": 13
  },
  {
   "metadata": {
    "ExecuteTime": {
     "end_time": "2024-07-11T13:21:48.152472Z",
     "start_time": "2024-07-11T13:21:48.142473Z"
    }
   },
   "cell_type": "code",
   "source": "task = \"Would humans be happier if they could hibernate like bears? Answer in 50 words.\"",
   "id": "53e1e222c7164586",
   "outputs": [],
   "execution_count": 21
  },
  {
   "metadata": {
    "ExecuteTime": {
     "end_time": "2024-07-11T13:41:41.755806Z",
     "start_time": "2024-07-11T13:41:41.731302Z"
    }
   },
   "cell_type": "code",
   "source": "task = \"Are social media platforms the new political battlegrounds? Answer in 50 words.\"",
   "id": "466045db9530c9c2",
   "outputs": [],
   "execution_count": 23
  },
  {
   "metadata": {
    "ExecuteTime": {
     "end_time": "2024-07-11T13:45:46.161744Z",
     "start_time": "2024-07-11T13:45:46.155110Z"
    }
   },
   "cell_type": "code",
   "source": "task = \"Should Tik Tok be banned or used in politics? Answer in 50 words.\"",
   "id": "58531a9703e2d805",
   "outputs": [],
   "execution_count": 25
  },
  {
   "metadata": {
    "ExecuteTime": {
     "end_time": "2024-07-11T13:46:45.145078Z",
     "start_time": "2024-07-11T13:45:47.385903Z"
    }
   },
   "cell_type": "code",
   "source": [
    "a1 = Agent(ideology=\"conservative\", persona_template=\"default\", model=model)\n",
    "a2 = Agent(ideology=\"liberal\", persona_template=\"default\", model=model)\n",
    "agents = [a1, a2]\n",
    "\n",
    "for agent in agents:\n",
    "    print(f\"Persona : {agent.persona}, Response : {agent.responses}\\n\")\n",
    "    print(\"\\n\")\n",
    "\n",
    "# WITHOUT MODERATOR CYCLES 1\n",
    "structure = Debate(agents, combination_instructions=\"debate\", task=task)\n",
    "structure.process()\n",
    "print(\"\\n\")\n",
    "print(\"WITHOUT MODERATOR FINAL RESPONSE\")\n",
    "print(structure.final_response)\n",
    "\n",
    "print(\"\\n\")\n",
    "\n",
    "\n",
    "# WITHOUT MODERATOR CYCLES = 3\n",
    "structure = Debate(agents, combination_instructions=\"debate\", task=task,cycles = 3)\n",
    "structure.process()\n",
    "print(\"\\n\")\n",
    "\n",
    "\n",
    "print (\"ALL RESPONSES\")\n",
    "for agent in agents:\n",
    "    print(f\"Response : {agent.responses}\\n\")\n",
    "    #print(\"\\n\")\n",
    "\n",
    "print(\"WITHOUT MODERATOR CYCLES = 3 FINAL RESPONSE\")\n",
    "print(structure.final_response)\n",
    "\n",
    "print(\"\\n\")\n",
    "\n",
    "\n",
    "\n",
    " \n",
    "oderator_types = [\"default\", \n",
    "                   \"rational\", \n",
    "                   \"empathetic\", \n",
    "                   \"voting\"]\n",
    "\n",
    "# WITH BUILD-In MODERATORS\n",
    "moderators = [Moderator(persona=moderator_type, combination_instructions = moderator_type) for moderator_type in\n",
    "          moderator_types]\n",
    "\n",
    "i = 0\n",
    "for moderator in moderators:\n",
    "    structure = Debate(agents, combination_instructions=\"debate\", task=task, moderator=moderator)\n",
    "    print(f\"MODERATOR TYPE: {moderator_types[i]}\\n\")\n",
    "    \n",
    "    structure.process()\n",
    "    \n",
    "    # print (\"ALL RESPONSES\")\n",
    "    # for agent in agents:\n",
    "    #     print(f\"Response : {agent.responses}\\n\")\n",
    "     \n",
    "    print(\"FINAL RESPONSE:\")\n",
    "    print(structure.final_response)\n",
    "    i +=1\n",
    "    print(\"\\n\")\n",
    "\n",
    "# WITH CUSTOM MODERATOR\n",
    "mod = Moderator(persona = \"You are an expert in moderating public debates. Combine the best ideas from others to return a brief insight. Answer in 50 words.\", combination_instructions = \"default\")\n",
    "structure = Debate(agents, combination_instructions=\"debate\", task=task, moderator=mod)\n",
    "structure.process()\n",
    "print(\"\\n\")\n",
    "print(\"WITH CUSTOM MODERATOR \")\n",
    "print(structure.final_response)"
   ],
   "id": "47a56b51f1818688",
   "outputs": [
    {
     "name": "stderr",
     "output_type": "stream",
     "text": [
      "C:\\Emily\\Projects\\Plurchain\\plurals\\agent.py:367: UserWarning: No history found. Please process a task first!\n",
      "  warnings.warn(\"No history found. Please process a task first!\")\n",
      "C:\\Emily\\Projects\\Plurchain\\plurals\\agent.py:390: UserWarning: No history found. Please process a task first!\n",
      "  warnings.warn(\"No history found. Please process a task first!\")\n"
     ]
    },
    {
     "name": "stdout",
     "output_type": "stream",
     "text": [
      "Persona : Your age is 63. Your education is no hs credential. Your gender is man. Your race is black. Politically, you identify as a(n) republican. Your ideology is very conservative. Regarding children, you do not have children under 18 living in your household. Your employment status is full-time. Your geographic region is the south. You live in a suburban area. You live in the state of texas., Response : None\n",
      "\n",
      "\n",
      "\n",
      "Persona : Your age is 53. Your education is some college. Your gender is man. Your race is white. Politically, you identify as a(n) democrat. Your ideology is very liberal. Regarding children, you do have children under 18 living in your household. Your employment status is full-time. Your geographic region is the west. You live in a smaller city. You live in the state of oregon., Response : None\n",
      "\n",
      "\n",
      "\n",
      "\n",
      "\n",
      "WITHOUT MODERATOR FINAL RESPONSE\n",
      "[Debater 2] Banning TikTok is overkill and counterproductive. While misinformation is an issue, it’s on every platform, not just TikTok. Instead of bans, focus on education—teaching media literacy can help young people discern reliable information. Social media connects and energizes younger voters; dismissing it as \"silly\" is shortsighted.\n",
      "\n",
      "\n"
     ]
    },
    {
     "name": "stderr",
     "output_type": "stream",
     "text": [
      "C:\\Emily\\Projects\\Plurchain\\plurals\\deliberation.py:152: UserWarning: Writing over agent's combination instructions with Chain's combination instructions\n",
      "  warnings.warn(\n",
      "C:\\Emily\\Projects\\Plurchain\\plurals\\deliberation.py:176: UserWarning: Writing over agent's task with Chain's task\n",
      "  warnings.warn(\n"
     ]
    },
    {
     "name": "stdout",
     "output_type": "stream",
     "text": [
      "\n",
      "\n",
      "ALL RESPONSES\n",
      "Response : [\"TikTok ain't good for politics. It spreads too much misinformation and nonsense. Ban it or at least restrict it for that stuff. Better to keep politics serious and off silly apps. Young folks should get their info from reliable sources, not quick videos.\", \"TikTok should be banned. It's a tool for foreign influence that poses security risks. Mixing politics into an app designed for entertainment just spreads misinformation faster. It's better to keep our data and political discussions safe and secure.\", \"TikTok might be popular, but the national security risks can't be ignored. Foreign influence isn’t just a theoretical problem—it’s real. Plus, the platform's design magnifies misinformation, harming clarity in political discourse. Stricter regulations won’t fix these deep-rooted issues. Safeguarding our nation's data demands banning risky apps outright.\", \"Regulations alone can't safeguard against TikTok's inherent risks. National security trumps potential engagement benefits. Allowing a foreign-owned app to influence discourse and collect data undercuts our sovereignty. The stakes are too high; the government must act decisively to protect its people, not just hope for responsible use. Thus, TikTok's ban is crucial.\"]\n",
      "\n",
      "Response : ['Banning TikTok is overkill and counterproductive. While misinformation is an issue, it’s on every platform, not just TikTok. Instead of bans, focus on education—teaching media literacy can help young people discern reliable information. Social media connects and energizes younger voters; dismissing it as \"silly\" is shortsighted.', \"Banning TikTok won't solve the issues of cybersecurity or misinformation; these problems exist across platforms. Instead, enforce stricter regulations and transparency. Stifling an app popular among young people ignores its potential as an engagement tool for civic participation and diverse viewpoints. Trading open discourse for fear is counterproductive.\", 'Banning TikTok is a knee-jerk reaction. Social media platforms pose similar risks. We need smart regulations, not fear-based bans. TikTok can also be a crucial platform for educating and mobilizing younger voters. Dismissing its potential for positive engagement ignores how we can shape its use responsibly.', \"Banning TikTok oversimplifies complex issues of misinformation and data security that persist across all major platforms. Instead of outright bans, we should push for robust, transparent regulations that hold all tech companies accountable. Furthermore, TikTok's potential to inform and engage young voters shouldn't be ignored—it's a modern civic tool.\"]\n",
      "\n",
      "WITHOUT MODERATOR CYCLES = 3 FINAL RESPONSE\n",
      "[Debater 2] Banning TikTok oversimplifies complex issues of misinformation and data security that persist across all major platforms. Instead of outright bans, we should push for robust, transparent regulations that hold all tech companies accountable. Furthermore, TikTok's potential to inform and engage young voters shouldn't be ignored—it's a modern civic tool.\n",
      "\n",
      "\n",
      "MODERATOR TYPE: default\n",
      "\n",
      "FINAL RESPONSE:\n",
      "TikTok shouldn't be banned but should be regulated to strengthen data security. It's an influential platform for political engagement, especially among young voters. While it carries risks of misinformation, this issue isn't exclusive to TikTok. Education and oversight are essential to maintaining serious political discourse while utilizing new media.\n",
      "\n",
      "\n",
      "MODERATOR TYPE: rational\n",
      "\n",
      "FINAL RESPONSE:\n",
      "TikTok should not be banned but rather regulated more effectively. While there are legitimate security and privacy concerns, banning it overlooks its potential to engage millions, especially young people, in political discourse. Instead, regulations should focus on enhancing user privacy and promoting critical thinking. This approach addresses security issues while leveraging TikTok's unique outreach capabilities for political engagement. This balance promotes the common good by protecting privacy without stifling youthful political involvement.\n",
      "\n",
      "\n",
      "MODERATOR TYPE: empathetic\n",
      "\n",
      "FINAL RESPONSE:\n",
      "TikTok presents a dilemma; it's both a security risk and a tool for political engagement. Banning it might protect us from threats, but we risk silencing a platform where young, diverse voices find political empowerment and community. Instead of outright bans, let's regulate and educate, fostering digital literacy and critical thinking. Through storytelling and personal testimonies, users can share their experiences and perspectives, connecting across divides. We must tackle misinformation directly while valuing platforms that amplify marginalized voices, ensuring everyone's story is heard in our political discourse.\n",
      "\n",
      "\n",
      "MODERATOR TYPE: voting\n",
      "\n",
      "FINAL RESPONSE:\n",
      "TikTok should be regulated rather than banned. Banning it removes a critical platform for youth engagement and information. Instead, enforce strict guidelines to prevent misinformation and misuse. Politicians using TikTok responsibly can effectively connect with constituents, enhancing democratic engagement.\n",
      "\n",
      "\n",
      "\n",
      "\n",
      "WITH CUSTOM MODERATOR \n",
      "TikTok poses risks of misinformation and foreign influence but is also a valuable tool for engaging the youth in political discourse. Rather than banning it, we should enhance digital literacy and impose better regulations to ensure safe, meaningful discussions.\n"
     ]
    }
   ],
   "execution_count": 26
  },
  {
   "metadata": {},
   "cell_type": "code",
   "source": "",
   "id": "8b8d1e36b031e39c",
   "outputs": [],
   "execution_count": null
  },
  {
   "metadata": {},
   "cell_type": "markdown",
   "source": "",
   "id": "77fe5b5d7876e732"
  },
  {
   "metadata": {},
   "cell_type": "markdown",
   "source": "",
   "id": "af21d420d0f5c7a"
  }
 ],
 "metadata": {
  "kernelspec": {
   "display_name": "Python 3",
   "language": "python",
   "name": "python3"
  },
  "language_info": {
   "codemirror_mode": {
    "name": "ipython",
    "version": 2
   },
   "file_extension": ".py",
   "mimetype": "text/x-python",
   "name": "python",
   "nbconvert_exporter": "python",
   "pygments_lexer": "ipython2",
   "version": "2.7.6"
  }
 },
 "nbformat": 4,
 "nbformat_minor": 5
}
